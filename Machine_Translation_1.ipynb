{
  "cells": [
    {
      "cell_type": "code",
      "execution_count": null,
      "metadata": {
        "colab": {
          "base_uri": "https://localhost:8080/"
        },
        "id": "AZhzzGKZuCIg",
        "outputId": "3e3f6bcd-9ad5-45e5-cabd-35d9b0bff788"
      },
      "outputs": [
        {
          "output_type": "stream",
          "name": "stdout",
          "text": [
            "Mounted at /content/drive\n"
          ]
        }
      ],
      "source": [
        "from google.colab import drive\n",
        "drive.mount('/content/drive')"
      ]
    },
    {
      "cell_type": "code",
      "execution_count": null,
      "metadata": {
        "colab": {
          "base_uri": "https://localhost:8080/"
        },
        "id": "w3SXBNKxemY0",
        "outputId": "fa554f98-3150-4ba5-ad2d-7c28cd96599d"
      },
      "outputs": [
        {
          "output_type": "stream",
          "name": "stdout",
          "text": [
            "/content/Hindi_English_Truncated_Corpus.csv\n",
            "/content/.config/active_config\n",
            "/content/.config/gce\n",
            "/content/.config/.last_opt_in_prompt.yaml\n",
            "/content/.config/.last_survey_prompt.yaml\n",
            "/content/.config/config_sentinel\n",
            "/content/.config/default_configs.db\n",
            "/content/.config/hidden_gcloud_config_universe_descriptor_data_cache_configs.db\n",
            "/content/.config/.last_update_check.json\n",
            "/content/.config/configurations/config_default\n",
            "/content/.config/logs/2024.11.25/19.13.09.316504.log\n",
            "/content/.config/logs/2024.11.25/19.12.20.690274.log\n",
            "/content/.config/logs/2024.11.25/19.12.56.407212.log\n",
            "/content/.config/logs/2024.11.25/19.13.10.119162.log\n",
            "/content/.config/logs/2024.11.25/19.12.42.183555.log\n",
            "/content/.config/logs/2024.11.25/19.12.55.136430.log\n",
            "/content/drive/MyDrive/ConfirmationPage_210310133130.pdf\n",
            "/content/drive/MyDrive/01.mpg\n",
            "/content/drive/MyDrive/Screenshot_20220710_151940.jpg\n",
            "/content/drive/MyDrive/Screenshot_20221213_082232.jpg\n",
            "/content/drive/MyDrive/IMG_20230610_111607.jpg\n",
            "/content/drive/MyDrive/placement class questions (1).pdf\n",
            "/content/drive/MyDrive/placement class questions.pdf\n",
            "/content/drive/MyDrive/literature review .pdf\n",
            "/content/drive/MyDrive/project report.pdf\n",
            "/content/drive/MyDrive/moocs report (1).pdf\n",
            "/content/drive/MyDrive/moocs report.pdf\n",
            "/content/drive/MyDrive/Assignment 2.. Arjun Singh c1_compressed.pdf\n",
            "/content/drive/MyDrive/Assignment 3 Arjun Singh c1 _compressed.pdf\n",
            "/content/drive/MyDrive/My certifications /NPTEL23CS90S83420034720104677.pdf\n",
            "/content/drive/MyDrive/My certifications /nd2_ns_nou24_ge25_2415210068218_nou24_ge25.pdf\n",
            "/content/drive/MyDrive/Colab Notebooks/Translation Code.ipynb\n",
            "/content/drive/MyDrive/Colab Notebooks/Language_Translation_Model.ipynb\n",
            "/content/drive/MyDrive/Colab Notebooks/Untitled1.ipynb\n",
            "/content/drive/MyDrive/Colab Notebooks/Machine Translation 1.ipynb\n",
            "/content/drive/MyDrive/Colab Notebooks/saved_model/decoder_weights.weights.h5\n",
            "/content/drive/MyDrive/Colab Notebooks/saved_model/encoder_weights.weights.h5\n",
            "/content/drive/MyDrive/Colab Notebooks/training_checkpoints/ckpt-2.data-00000-of-00001\n",
            "/content/drive/MyDrive/Colab Notebooks/training_checkpoints/ckpt-2.index\n",
            "/content/drive/MyDrive/Colab Notebooks/training_checkpoints/ckpt-1.index\n",
            "/content/drive/MyDrive/Colab Notebooks/training_checkpoints/ckpt-1.data-00000-of-00001\n",
            "/content/drive/MyDrive/Colab Notebooks/training_checkpoints/checkpoint\n",
            "/content/drive/MyDrive/Data/arabic.txt\n",
            "/content/drive/MyDrive/Data/czech.txt\n",
            "/content/drive/MyDrive/Data/danish.txt\n",
            "/content/drive/MyDrive/Data/bulgarian.txt\n",
            "/content/drive/MyDrive/Data/catalan.txt\n",
            "/content/drive/MyDrive/Data/polish.txt\n",
            "/content/drive/MyDrive/Data/french.txt\n",
            "/content/drive/MyDrive/Data/spanish.txt\n",
            "/content/drive/MyDrive/Data/portuguese.txt\n",
            "/content/drive/MyDrive/Data/turkish.txt\n",
            "/content/drive/MyDrive/Data/vietnamese.txt\n",
            "/content/drive/MyDrive/Data/malaysian.txt\n",
            "/content/drive/MyDrive/Data/romanian.txt\n",
            "/content/drive/MyDrive/Data/norwegian.txt\n",
            "/content/drive/MyDrive/Data/finnish.txt\n",
            "/content/drive/MyDrive/Data/indonesian.txt\n",
            "/content/drive/MyDrive/Data/italian.txt\n",
            "/content/drive/MyDrive/Data/swedish.txt\n",
            "/content/drive/MyDrive/Data/hebrew.txt\n",
            "/content/drive/MyDrive/Data/russian.txt\n",
            "/content/drive/MyDrive/Data/ukrainian.txt\n",
            "/content/drive/MyDrive/Data/dutch.txt\n",
            "/content/drive/MyDrive/Data/hindi.txt\n",
            "/content/drive/MyDrive/Data/german.txt\n",
            "/content/drive/MyDrive/Data/hungarian.txt\n",
            "/content/drive/MyDrive/Data/gujarati.txt\n",
            "/content/drive/MyDrive/Data/slovak.txt\n",
            "/content/drive/MyDrive/Data/english.txt\n",
            "/content/drive/MyDrive/Language translation/ckpt_1.weights.h5\n",
            "/content/drive/MyDrive/Language translation/ckpt_2.weights.h5\n",
            "/content/drive/MyDrive/Language translation/ckpt_3.weights.h5\n",
            "/content/drive/MyDrive/Language translation/ckpt_4.weights.h5\n",
            "/content/drive/MyDrive/Language translation/ckpt_5.weights.h5\n",
            "/content/drive/MyDrive/Language translation/ckpt_6.weights.h5\n",
            "/content/drive/MyDrive/Language translation/ckpt_7.weights.h5\n",
            "/content/drive/MyDrive/Language translation/ckpt_8.weights.h5\n",
            "/content/drive/MyDrive/Language translation/ckpt_9.weights.h5\n",
            "/content/drive/MyDrive/Language translation/ckpt_10.weights.h5\n",
            "/content/drive/MyDrive/Language translation/Model.weights.h5\n",
            "/content/drive/MyDrive/training_checkpoints/ckpt-1.index\n",
            "/content/drive/MyDrive/training_checkpoints/ckpt-1.data-00000-of-00001\n",
            "/content/drive/MyDrive/training_checkpoints/ckpt-2.data-00000-of-00001\n",
            "/content/drive/MyDrive/training_checkpoints/ckpt-2.index\n",
            "/content/drive/MyDrive/training_checkpoints/ckpt-3.index\n",
            "/content/drive/MyDrive/training_checkpoints/ckpt-3.data-00000-of-00001\n",
            "/content/drive/MyDrive/training_checkpoints/ckpt-4.data-00000-of-00001\n",
            "/content/drive/MyDrive/training_checkpoints/ckpt-4.index\n",
            "/content/drive/MyDrive/training_checkpoints/ckpt-5.data-00000-of-00001\n",
            "/content/drive/MyDrive/training_checkpoints/ckpt-5.index\n",
            "/content/drive/MyDrive/training_checkpoints/ckpt-6.index\n",
            "/content/drive/MyDrive/training_checkpoints/ckpt-6.data-00000-of-00001\n",
            "/content/drive/MyDrive/training_checkpoints/ckpt-7.index\n",
            "/content/drive/MyDrive/training_checkpoints/ckpt-7.data-00000-of-00001\n",
            "/content/drive/MyDrive/training_checkpoints/ckpt-8.data-00000-of-00001\n",
            "/content/drive/MyDrive/training_checkpoints/ckpt-8.index\n",
            "/content/drive/MyDrive/training_checkpoints/ckpt-9.index\n",
            "/content/drive/MyDrive/training_checkpoints/ckpt-9.data-00000-of-00001\n",
            "/content/drive/MyDrive/training_checkpoints/ckpt-10.data-00000-of-00001\n",
            "/content/drive/MyDrive/training_checkpoints/ckpt-10.index\n",
            "/content/drive/MyDrive/training_checkpoints/ckpt-11.index\n",
            "/content/drive/MyDrive/training_checkpoints/ckpt-11.data-00000-of-00001\n",
            "/content/drive/MyDrive/training_checkpoints/ckpt-12.data-00000-of-00001\n",
            "/content/drive/MyDrive/training_checkpoints/ckpt-12.index\n",
            "/content/drive/MyDrive/training_checkpoints/ckpt-13.index\n",
            "/content/drive/MyDrive/training_checkpoints/ckpt-13.data-00000-of-00001\n",
            "/content/drive/MyDrive/training_checkpoints/ckpt-14.data-00000-of-00001\n",
            "/content/drive/MyDrive/training_checkpoints/ckpt-14.index\n",
            "/content/drive/MyDrive/training_checkpoints/ckpt-15.data-00000-of-00001\n",
            "/content/drive/MyDrive/training_checkpoints/ckpt-15.index\n",
            "/content/drive/MyDrive/training_checkpoints/ckpt-16.data-00000-of-00001\n",
            "/content/drive/MyDrive/training_checkpoints/ckpt-16.index\n",
            "/content/drive/MyDrive/training_checkpoints/checkpoint\n",
            "/content/sample_data/README.md\n",
            "/content/sample_data/anscombe.json\n",
            "/content/sample_data/california_housing_train.csv\n",
            "/content/sample_data/california_housing_test.csv\n",
            "/content/sample_data/mnist_train_small.csv\n",
            "/content/sample_data/mnist_test.csv\n",
            "Dataset loaded successfully!\n",
            "      source                                   english_sentence  \\\n",
            "0        ted  politicians do not have permission to do what ...   \n",
            "1        ted         I'd like to tell you about one such child,   \n",
            "2  indic2012  This percentage is even greater than the perce...   \n",
            "3        ted  what we really mean is that they're bad at not...   \n",
            "4  indic2012  .The ending portion of these Vedas is called U...   \n",
            "\n",
            "                                      hindi_sentence  \n",
            "0  à¤°à¤¾à¤à¤¨à¥à¤¤à¤¿à¤à¥à¤à¥à¤ à¤à¥ à¤...  \n",
            "1  à¤®à¤ à¤à¤ªà¤à¥ à¤à¤¸à¥ à¤¹à¥ à¤à¤ à¤...  \n",
            "2  à¤¯à¤¹ à¤ªà¥à¤°à¤¤à¤¿à¤¶à¤¤ à¤­à¤¾à¤°à¤¤ à¤®à...  \n",
            "3  à¤¹à¤® à¤¯à¥ à¤¨à¤¹à¥à¤ à¤à¤¹à¤¨à¤¾ à¤à¤¾...  \n",
            "4  à¤à¤¨à¥à¤¹à¥à¤ à¤µà¥à¤¦à¥à¤ à¤à¤¾ à¤à...  \n"
          ]
        }
      ],
      "source": [
        "import os\n",
        "import string\n",
        "import numpy as np\n",
        "import pandas as pd\n",
        "import matplotlib.pyplot as plt\n",
        "import re\n",
        "import logging\n",
        "import tensorflow as tf\n",
        "from sklearn.model_selection import train_test_split\n",
        "import unicodedata\n",
        "import time\n",
        "import warnings\n",
        "from nltk.translate.bleu_score import sentence_bleu, SmoothingFunction\n",
        "\n",
        "os.environ['TF_CPP_MIN_LOG_LEVEL'] = '3'\n",
        "logging.getLogger('tensorflow').setLevel(logging.FATAL)\n",
        "\n",
        "# Display matplotlib plots inline in notebooks\n",
        "%matplotlib inline\n",
        "\n",
        "# Define the path to the dataset\n",
        "PATH = \"/content/Hindi_English_Truncated_Corpus.csv\"\n",
        "\n",
        "\n",
        "for dirname, _, filenames in os.walk('/content'):\n",
        "    for filename in filenames:\n",
        "        print(os.path.join(dirname, filename))\n",
        "\n",
        "try:\n",
        "    # Specify the encoding as 'latin-1' or 'ISO-8859-1'\n",
        "    dataset = pd.read_csv(PATH, encoding='latin-1')\n",
        "    print(\"Dataset loaded successfully!\")\n",
        "    print(dataset.head())  # Display the first few rows for verification\n",
        "except FileNotFoundError:\n",
        "    print(f\"File not found at the path: {PATH}. Please check the file location.\")\n",
        "except UnicodeDecodeError:\n",
        "    print(f\"UnicodeDecodeError: Could not decode the file with 'latin-1'. Try another encoding like 'ISO-8859-1' or 'utf-16'.\")\n",
        "\n"
      ]
    },
    {
      "cell_type": "code",
      "execution_count": null,
      "metadata": {
        "id": "dzuqz33nfHCM"
      },
      "outputs": [],
      "source": [
        "def unicode_to_ascii(s):\n",
        "    return ''.join(c for c in unicodedata.normalize('NFD', s)\n",
        "        if unicodedata.category(c) != 'Mn')\n",
        "\n",
        "def preprocess_sentence(w):\n",
        "    w = unicode_to_ascii(w.lower().strip())\n",
        "    w = re.sub(r\"([?.!,¿])\", r\" \\1 \", w)\n",
        "    w = re.sub(r'[\" \"]+', \" \", w)\n",
        "    w = re.sub(r\"[^a-zA-Z?.!,¿]+\", \" \", w)\n",
        "    w = w.rstrip().strip()\n",
        "    return w\n",
        "\n",
        "def hindi_preprocess_sentence(w):\n",
        "    w = w.rstrip().strip()\n",
        "    return w"
      ]
    },
    {
      "cell_type": "code",
      "execution_count": null,
      "metadata": {
        "id": "jtznBXfkfd4i"
      },
      "outputs": [],
      "source": [
        "def create_dataset(path=PATH):\n",
        "    lines=pd.read_csv(path,encoding='utf-8')\n",
        "    lines=lines.dropna()\n",
        "    lines = lines[lines['source']=='ted']\n",
        "    en = []\n",
        "    hd = []\n",
        "    for i, j in zip(lines['english_sentence'], lines['hindi_sentence']):\n",
        "        en_1 = [preprocess_sentence(w) for w in i.split(' ')]\n",
        "        en_1.append('<end>')\n",
        "        en_1.insert(0, '<start>')\n",
        "        hd_1 = [hindi_preprocess_sentence(w) for w in j.split(' ')]\n",
        "        hd_1.append('<end>')\n",
        "        hd_1.insert(0, '<start>')\n",
        "        en.append(en_1)\n",
        "        hd.append(hd_1)\n",
        "    return hd, en"
      ]
    },
    {
      "cell_type": "code",
      "execution_count": null,
      "metadata": {
        "id": "CVaRw2b0feEp"
      },
      "outputs": [],
      "source": [
        "def max_length(tensor):\n",
        "    return max(len(t) for t in tensor)"
      ]
    },
    {
      "cell_type": "code",
      "execution_count": null,
      "metadata": {
        "id": "nMTZFD6efeHy"
      },
      "outputs": [],
      "source": [
        "def tokenize(lang):\n",
        "  lang_tokenizer = tf.keras.preprocessing.text.Tokenizer(filters='')\n",
        "  lang_tokenizer.fit_on_texts(lang)\n",
        "  tensor = lang_tokenizer.texts_to_sequences(lang)\n",
        "  tensor = tf.keras.preprocessing.sequence.pad_sequences(tensor,padding='post')\n",
        "  return tensor, lang_tokenizer"
      ]
    },
    {
      "cell_type": "code",
      "execution_count": null,
      "metadata": {
        "id": "8zm3QFFrfeKt"
      },
      "outputs": [],
      "source": [
        "def load_dataset(path=PATH):\n",
        "    targ_lang, inp_lang = create_dataset(path)\n",
        "    input_tensor, inp_lang_tokenizer = tokenize(inp_lang)\n",
        "    target_tensor, targ_lang_tokenizer = tokenize(targ_lang)\n",
        "    return input_tensor, target_tensor, inp_lang_tokenizer, targ_lang_tokenizer"
      ]
    },
    {
      "cell_type": "code",
      "execution_count": null,
      "metadata": {
        "id": "f9xqNGx2feNm"
      },
      "outputs": [],
      "source": [
        "input_tensor, target_tensor, inp_lang, targ_lang = load_dataset(PATH)\n",
        "max_length_targ, max_length_inp = max_length(target_tensor), max_length(input_tensor)"
      ]
    },
    {
      "cell_type": "code",
      "execution_count": null,
      "metadata": {
        "colab": {
          "base_uri": "https://localhost:8080/"
        },
        "id": "1OtcHT-EfeQm",
        "outputId": "9280dcc4-6740-48c7-9221-5bc416b1437c"
      },
      "outputs": [
        {
          "output_type": "stream",
          "name": "stdout",
          "text": [
            "31904 31904 7977 7977\n"
          ]
        }
      ],
      "source": [
        "input_tensor_train, input_tensor_val, target_tensor_train, target_tensor_val = train_test_split(input_tensor, target_tensor, test_size=0.2)\n",
        "print(len(input_tensor_train), len(target_tensor_train), len(input_tensor_val), len(target_tensor_val))"
      ]
    },
    {
      "cell_type": "code",
      "execution_count": null,
      "metadata": {
        "colab": {
          "base_uri": "https://localhost:8080/"
        },
        "id": "Rfyv79Sgfunb",
        "outputId": "5f420bd4-8235-406d-b8e1-7cac403c1bd6"
      },
      "outputs": [
        {
          "output_type": "stream",
          "name": "stdout",
          "text": [
            "Input Language; index to word mapping\n",
            "1 ----> <start>\n",
            "53 ----> how\n",
            "8678 ----> articles\n",
            "22 ----> are\n",
            "4482 ----> formed\n",
            "8 ----> in\n",
            "6123 ----> wikipedia\n",
            "14 ----> \n",
            "2 ----> <end>\n",
            "\n",
            "Target Language; index to word mapping\n",
            "1 ----> <start>\n",
            "7512 ----> विकिपीडिया\n",
            "5 ----> में\n",
            "1832 ----> लेख\n",
            "111 ----> कैसे\n",
            "2066 ----> बनते\n",
            "13 ----> हैं\n",
            "35 ----> -\n",
            "2 ----> <end>\n"
          ]
        }
      ],
      "source": [
        "def convert(lang, tensor):\n",
        "  for t in tensor:\n",
        "    if t!=0:\n",
        "      print (\"%d ----> %s\" % (t, lang.index_word[t]))\n",
        "\n",
        "print (\"Input Language; index to word mapping\")\n",
        "convert(inp_lang, input_tensor_train[0])\n",
        "print ()\n",
        "print (\"Target Language; index to word mapping\")\n",
        "convert(targ_lang, target_tensor_train[0])"
      ]
    },
    {
      "cell_type": "code",
      "execution_count": null,
      "metadata": {
        "id": "OkZjuVm6fuux"
      },
      "outputs": [],
      "source": [
        "\n",
        "\n",
        "BUFFER_SIZE = len(input_tensor_train)\n",
        "BATCH_SIZE = 64\n",
        "steps_per_epoch = len(input_tensor_train)//BATCH_SIZE\n",
        "embedding_dim = 128\n",
        "units = 256\n",
        "vocab_inp_size = len(inp_lang.word_index)+1\n",
        "vocab_tar_size = len(targ_lang.word_index)+1\n",
        "\n",
        "dataset = tf.data.Dataset.from_tensor_slices((input_tensor_train, target_tensor_train)).shuffle(BUFFER_SIZE)\n",
        "dataset = dataset.batch(BATCH_SIZE, drop_remainder=True)"
      ]
    },
    {
      "cell_type": "code",
      "execution_count": null,
      "metadata": {
        "id": "TWArr8t5fu0I"
      },
      "outputs": [],
      "source": [
        "class Encoder(tf.keras.Model):\n",
        "  def __init__(self, vocab_size, embedding_dim, enc_units, batch_sz):\n",
        "    super(Encoder, self).__init__()\n",
        "    self.batch_sz = batch_sz\n",
        "    self.enc_units = enc_units\n",
        "    self.embedding = tf.keras.layers.Embedding(vocab_size, embedding_dim)\n",
        "    self.gru = tf.keras.layers.GRU(self.enc_units,\n",
        "                                   return_sequences=True,\n",
        "                                   return_state=True,\n",
        "                                   recurrent_initializer='glorot_uniform')\n",
        "\n",
        "  def call(self, x, hidden):\n",
        "    x = self.embedding(x)\n",
        "    output, state = self.gru(x, initial_state = hidden)\n",
        "    return output, state\n",
        "\n",
        "  def initialize_hidden_state(self):\n",
        "    return tf.zeros((self.batch_sz, self.enc_units))\n",
        "\n",
        "encoder = Encoder(vocab_inp_size, embedding_dim, units, BATCH_SIZE)"
      ]
    },
    {
      "cell_type": "code",
      "execution_count": null,
      "metadata": {
        "id": "quYi3NH2f7dE"
      },
      "outputs": [],
      "source": [
        "class BahdanauAttention(tf.keras.layers.Layer):\n",
        "  def __init__(self, units):\n",
        "    super(BahdanauAttention, self).__init__()\n",
        "    self.W1 = tf.keras.layers.Dense(units)\n",
        "    self.W2 = tf.keras.layers.Dense(units)\n",
        "    self.V = tf.keras.layers.Dense(1)\n",
        "\n",
        "  def call(self, query, values):\n",
        "    hidden_with_time_axis = tf.expand_dims(query, 1)\n",
        "    score = self.V(tf.nn.tanh(\n",
        "        self.W1(values) + self.W2(hidden_with_time_axis)))\n",
        "    attention_weights = tf.nn.softmax(score, axis=1)\n",
        "    context_vector = attention_weights * values\n",
        "    context_vector = tf.reduce_sum(context_vector, axis=1)\n",
        "    return context_vector, attention_weights"
      ]
    },
    {
      "cell_type": "code",
      "execution_count": null,
      "metadata": {
        "id": "v6eMwO5LgCDW"
      },
      "outputs": [],
      "source": [
        "class Decoder(tf.keras.Model):\n",
        "  def __init__(self, vocab_size, embedding_dim, dec_units, batch_sz):\n",
        "    super(Decoder, self).__init__()\n",
        "    self.batch_sz = batch_sz\n",
        "    self.dec_units = dec_units\n",
        "    self.embedding = tf.keras.layers.Embedding(vocab_size, embedding_dim)\n",
        "    self.gru = tf.keras.layers.GRU(self.dec_units,\n",
        "                                   return_sequences=True,\n",
        "                                   return_state=True,\n",
        "                                   recurrent_initializer='glorot_uniform')\n",
        "    self.fc = tf.keras.layers.Dense(vocab_size)\n",
        "    self.attention = BahdanauAttention(self.dec_units)\n",
        "\n",
        "  def call(self, x, hidden, enc_output):\n",
        "    context_vector, attention_weights = self.attention(hidden, enc_output)\n",
        "    x = self.embedding(x)\n",
        "    x = tf.concat([tf.expand_dims(context_vector, 1), x], axis=-1)\n",
        "    output, state = self.gru(x)\n",
        "    output = tf.reshape(output, (-1, output.shape[2]))\n",
        "    x = self.fc(output)\n",
        "    return x, state, attention_weights\n",
        "\n",
        "decoder = Decoder(vocab_tar_size, embedding_dim, units, BATCH_SIZE)"
      ]
    },
    {
      "cell_type": "code",
      "execution_count": null,
      "metadata": {
        "id": "zKMSH-KcL64a"
      },
      "outputs": [],
      "source": [
        "# Initialize models\n",
        "encoder = Encoder(vocab_inp_size, embedding_dim, units, BATCH_SIZE)\n",
        "decoder = Decoder(vocab_tar_size, embedding_dim, units, BATCH_SIZE)"
      ]
    },
    {
      "cell_type": "code",
      "execution_count": null,
      "metadata": {
        "id": "sMz9SO8xgJAp"
      },
      "outputs": [],
      "source": [
        "optimizer = tf.keras.optimizers.Adam()\n",
        "loss_object = tf.keras.losses.SparseCategoricalCrossentropy(\n",
        "    from_logits=True, reduction='none')\n",
        "\n",
        "def loss_function(real, pred):\n",
        "  mask = tf.math.logical_not(tf.math.equal(real, 0))\n",
        "  loss_ = loss_object(real, pred)\n",
        "  mask = tf.cast(mask, dtype=loss_.dtype)\n",
        "#   print(type(mask))\n",
        "  loss_ *= mask\n",
        "  return tf.reduce_mean(loss_)"
      ]
    },
    {
      "cell_type": "code",
      "execution_count": null,
      "metadata": {
        "id": "SifFGOlEgPr5"
      },
      "outputs": [],
      "source": [
        "@tf.function\n",
        "def train_step(inp, targ, enc_hidden):\n",
        "  loss = 0\n",
        "  with tf.GradientTape() as tape:\n",
        "    enc_output, enc_hidden = encoder(inp, enc_hidden)\n",
        "    dec_hidden = enc_hidden\n",
        "    dec_input = tf.expand_dims([targ_lang.word_index['<start>']] * BATCH_SIZE, 1)\n",
        "    # Teacher forcing\n",
        "    for t in range(1, targ.shape[1]):\n",
        "      predictions, dec_hidden, _ = decoder(dec_input, dec_hidden, enc_output)\n",
        "      loss += loss_function(targ[:, t], predictions)\n",
        "      dec_input = tf.expand_dims(targ[:, t], 1)\n",
        "\n",
        "  batch_loss = (loss / int(targ.shape[1]))\n",
        "  variables = encoder.trainable_variables + decoder.trainable_variables\n",
        "  gradients = tape.gradient(loss, variables)\n",
        "  optimizer.apply_gradients(zip(gradients, variables))\n",
        "  return batch_loss"
      ]
    },
    {
      "cell_type": "code",
      "source": [
        "#Training and Validation Loss Tracker (Extra Code Added)\n",
        "train_losses = []\n",
        "val_losses = []"
      ],
      "metadata": {
        "id": "phmsX-P-Bide"
      },
      "execution_count": null,
      "outputs": []
    },
    {
      "cell_type": "code",
      "source": [
        "# Create checkpoint object before the training loop\n",
        "checkpoint_dir = '/content/drive/MyDrive/Colab Notebooks/training_checkpoints'\n",
        "checkpoint_prefix = os.path.join(checkpoint_dir, \"ckpt\")\n",
        "checkpoint = tf.train.Checkpoint(optimizer=optimizer,\n",
        "                                 encoder=encoder,\n",
        "                                 decoder=decoder)"
      ],
      "metadata": {
        "id": "omtIDb79BoY3"
      },
      "execution_count": null,
      "outputs": []
    },
    {
      "cell_type": "code",
      "execution_count": null,
      "metadata": {
        "colab": {
          "base_uri": "https://localhost:8080/"
        },
        "id": "3t1mqDU-gUtO",
        "outputId": "600c0d9a-5dbd-4f31-9e8f-48fef4819576"
      },
      "outputs": [
        {
          "output_type": "stream",
          "name": "stdout",
          "text": [
            "Epoch 1 Batch 0 Loss 2.7630\n",
            "Epoch 1 Batch 100 Loss 1.7664\n",
            "Epoch 1 Batch 200 Loss 1.8168\n",
            "Epoch 1 Batch 300 Loss 1.7889\n",
            "Epoch 1 Batch 400 Loss 1.7988\n",
            "Epoch 1 | Train Loss: 1.9323 | Validation Loss: 0.0000\n",
            "Time taken for 1 epoch 2194.10 sec\n",
            "Epoch 2 Batch 0 Loss 1.6679\n",
            "Epoch 2 Batch 100 Loss 1.6771\n",
            "Epoch 2 Batch 200 Loss 1.6232\n",
            "Epoch 2 Batch 300 Loss 1.7162\n",
            "Epoch 2 Batch 400 Loss 1.6565\n",
            "Epoch 2 | Train Loss: 1.7051 | Validation Loss: 0.0000\n",
            "Time taken for 1 epoch 2133.91 sec\n",
            "Epoch 3 Batch 0 Loss 1.6549\n",
            "Epoch 3 Batch 100 Loss 1.4863\n",
            "Epoch 3 Batch 200 Loss 1.6300\n",
            "Epoch 3 Batch 300 Loss 1.6121\n",
            "Epoch 3 Batch 400 Loss 1.5134\n",
            "Epoch 3 | Train Loss: 1.6012 | Validation Loss: 0.0000\n",
            "Time taken for 1 epoch 2120.68 sec\n",
            "Epoch 4 Batch 0 Loss 1.5297\n",
            "Epoch 4 Batch 100 Loss 1.4776\n",
            "Epoch 4 Batch 200 Loss 1.5834\n",
            "Epoch 4 Batch 300 Loss 1.5774\n",
            "Epoch 4 Batch 400 Loss 1.6271\n",
            "Epoch 4 | Train Loss: 1.5253 | Validation Loss: 0.0000\n",
            "Time taken for 1 epoch 2117.03 sec\n",
            "Epoch 5 Batch 0 Loss 1.4952\n",
            "Epoch 5 Batch 100 Loss 1.4559\n",
            "Epoch 5 Batch 200 Loss 1.4276\n",
            "Epoch 5 Batch 300 Loss 1.4942\n",
            "Epoch 5 Batch 400 Loss 1.3079\n",
            "Epoch 5 | Train Loss: 1.4605 | Validation Loss: 0.0000\n",
            "Time taken for 1 epoch 2084.17 sec\n",
            "Epoch 6 Batch 0 Loss 1.4603\n",
            "Epoch 6 Batch 100 Loss 1.3756\n",
            "Epoch 6 Batch 200 Loss 1.4046\n",
            "Epoch 6 Batch 300 Loss 1.3065\n",
            "Epoch 6 Batch 400 Loss 1.3187\n",
            "Epoch 6 | Train Loss: 1.4000 | Validation Loss: 0.0000\n",
            "Time taken for 1 epoch 2100.36 sec\n",
            "Epoch 7 Batch 0 Loss 1.3717\n",
            "Epoch 7 Batch 100 Loss 1.4460\n",
            "Epoch 7 Batch 200 Loss 1.3423\n",
            "Epoch 7 Batch 300 Loss 1.3332\n",
            "Epoch 7 Batch 400 Loss 1.2391\n",
            "Epoch 7 | Train Loss: 1.3428 | Validation Loss: 0.0000\n",
            "Time taken for 1 epoch 2101.26 sec\n",
            "Epoch 8 Batch 0 Loss 1.3356\n",
            "Epoch 8 Batch 100 Loss 1.3697\n",
            "Epoch 8 Batch 200 Loss 1.3589\n",
            "Epoch 8 Batch 300 Loss 1.2502\n",
            "Epoch 8 Batch 400 Loss 1.2210\n",
            "Epoch 8 | Train Loss: 1.2884 | Validation Loss: 0.0000\n",
            "Time taken for 1 epoch 2093.83 sec\n",
            "Epoch 9 Batch 0 Loss 1.2684\n",
            "Epoch 9 Batch 100 Loss 1.2645\n",
            "Epoch 9 Batch 200 Loss 1.3965\n",
            "Epoch 9 Batch 300 Loss 1.2038\n",
            "Epoch 9 Batch 400 Loss 1.2971\n",
            "Epoch 9 | Train Loss: 1.2362 | Validation Loss: 0.0000\n",
            "Time taken for 1 epoch 2091.29 sec\n",
            "Epoch 10 Batch 0 Loss 1.2154\n",
            "Epoch 10 Batch 100 Loss 1.3711\n",
            "Epoch 10 Batch 200 Loss 1.2067\n"
          ]
        }
      ],
      "source": [
        "# Training loop\n",
        "EPOCHS =10\n",
        "\n",
        "for epoch in range(EPOCHS):\n",
        "    start = time.time()\n",
        "    enc_hidden = encoder.initialize_hidden_state()\n",
        "    total_loss = 0\n",
        "    total_val_loss = 0  # Initialize total_val_loss as a float (0.0)\n",
        "\n",
        "    for (batch, (inp, targ)) in enumerate(dataset.take(steps_per_epoch)):\n",
        "        batch_loss = train_step(inp, targ, enc_hidden)\n",
        "        total_loss += batch_loss\n",
        "\n",
        "\n",
        "        if batch % 100 == 0:\n",
        "            print('Epoch {} Batch {} Loss {:.4f}'.format(epoch + 1, batch, batch_loss.numpy()))\n",
        "\n",
        "\n",
        "    train_loss = total_loss / steps_per_epoch\n",
        "    val_loss = total_val_loss / steps_per_epoch  # Now val_loss will be a float\n",
        "\n",
        "    train_losses.append(train_loss.numpy())  # Track training loss\n",
        "    val_losses.append(val_loss)  # Append val_loss directly (no .numpy())\n",
        "\n",
        "    # Save checkpoint every  epochs\n",
        "    if (epoch + 1) == 0:\n",
        "        checkpoint.save(file_prefix=checkpoint_prefix)\n",
        "\n",
        "    print(f\"Epoch {epoch + 1} | Train Loss: {train_loss:.4f} | Validation Loss: {val_loss:.4f}\")\n",
        "    print(f\"Time taken for 1 epoch {time.time() - start:.2f} sec\")\n"
      ]
    },
    {
      "cell_type": "code",
      "execution_count": null,
      "metadata": {
        "id": "ZF7yia1pZjGj",
        "colab": {
          "base_uri": "https://localhost:8080/",
          "height": 445
        },
        "outputId": "2c65db98-2822-4520-93a6-640d18a34ad3"
      },
      "outputs": [
        {
          "output_type": "display_data",
          "data": {
            "text/plain": [
              "<Figure size 1000x600 with 1 Axes>"
            ],
            "image/png": "[encoded data removed]"
          },
          "metadata": {}
        }
      ],
      "source": [
        "#saved ephoce\n",
        "train_losses = [\n",
        "    1.9323, 1.7051, 1.6012, 1.5253, 1.4605, 1.4000, 1.3428, 1.2884, 1.2362\n",
        "]\n",
        "val_losses = [0.0] * len(train_losses)\n",
        "\n",
        "\n",
        "# Visualize Training and Validation Loss Curves\n",
        "plt.figure(figsize=(10, 6))\n",
        "plt.plot(range(1, len(train_losses) + 1), train_losses, label=\"Training Loss\")\n",
        "plt.plot(range(1, len(val_losses) + 1), val_losses, label=\"Validation Loss\", linestyle='--')\n",
        "plt.xlabel(\"Epochs\")\n",
        "plt.ylabel(\"Loss\")\n",
        "plt.title(\"Training and Validation Loss Curves\")\n",
        "plt.legend()\n",
        "plt.show()\n"
      ]
    },
    {
      "cell_type": "code",
      "execution_count": null,
      "metadata": {
        "id": "cqDCmIUiZlyb"
      },
      "outputs": [],
      "source": [
        "# BLEU Score Evaluation (Extra Code Added)\n",
        "def evaluate_bleu(reference, candidate):\n",
        "    \"\"\"\n",
        "    Compute BLEU score for a single translation.\n",
        "    \"\"\"\n",
        "    reference = [reference.split()]\n",
        "    candidate = candidate.split()\n",
        "    smoothing_function = SmoothingFunction().method4\n",
        "    score = sentence_bleu(reference, candidate, smoothing_function=smoothing_function)\n",
        "    return score\n"
      ]
    },
    {
      "cell_type": "code",
      "execution_count": null,
      "metadata": {
        "id": "T0sEjzLuZ1zL"
      },
      "outputs": [],
      "source": []
    },
    {
      "cell_type": "code",
      "execution_count": null,
      "metadata": {
        "id": "vdXbruuAHepy"
      },
      "outputs": [],
      "source": [
        "# Specify directory to save model weights\n",
        "save_path = '/content/drive/MyDrive/Colab Notebooks/saved_model/'\n",
        "if not os.path.exists(save_path):\n",
        "    os.makedirs(save_path)"
      ]
    },
    {
      "cell_type": "code",
      "execution_count": null,
      "metadata": {
        "id": "z7NEBor3HkoD",
        "colab": {
          "base_uri": "https://localhost:8080/"
        },
        "outputId": "d2a488dc-87c2-4d92-a7f5-7606efd4ad7d"
      },
      "outputs": [
        {
          "output_type": "stream",
          "name": "stdout",
          "text": [
            "Model saved successfully!\n"
          ]
        }
      ],
      "source": [
        "# Save function\n",
        "checkpoint.save(file_prefix=checkpoint_prefix)\n",
        "encoder.save_weights(save_path + 'encoder_weights.weights.h5')\n",
        "decoder.save_weights(save_path + 'decoder_weights.weights.h5')\n",
        "print(\"Model saved successfully!\")\n"
      ]
    },
    {
      "cell_type": "code",
      "execution_count": null,
      "metadata": {
        "id": "6GmUbMraHkac",
        "colab": {
          "base_uri": "https://localhost:8080/"
        },
        "outputId": "c12fad2b-c404-4293-d767-cc4196b1cba9"
      },
      "outputs": [
        {
          "output_type": "stream",
          "name": "stdout",
          "text": [
            "Model loaded successfully!\n"
          ]
        }
      ],
      "source": [
        "### Check if the model weights files exist before attempting to load them\n",
        "if os.path.exists('/content/drive/MyDrive/Colab Notebooks/saved_model/encoder_weights.weights.h5') and os.path.exists('/content/drive/MyDrive/Colab Notebooks/saved_model/decoder_weights.weights.h5'):\n",
        "    checkpoint.restore(tf.train.latest_checkpoint(checkpoint_dir))\n",
        "    encoder.load_weights('/content/drive/MyDrive/Colab Notebooks/saved_model/encoder_weights.weights.h5')\n",
        "    decoder.load_weights('/content/drive/MyDrive/Colab Notebooks/saved_model/decoder_weights.weights.h5')\n",
        "    print(\"Model loaded successfully!\")\n",
        "else:\n",
        "    print(\"No saved model found. Starting training from scratch.\")"
      ]
    },
    {
      "cell_type": "code",
      "execution_count": null,
      "metadata": {
        "id": "0qOC6s9-lksZ"
      },
      "outputs": [],
      "source": [
        "def evaluate(sentence):\n",
        "    attention_plot = np.zeros((max_length_targ, max_length_inp))\n",
        "    sentence = preprocess_sentence(sentence)\n",
        "    inputs = [inp_lang.word_index[i] for i in sentence.split(' ')]\n",
        "    inputs = tf.keras.preprocessing.sequence.pad_sequences([inputs],\n",
        "                                                           maxlen=max_length_inp,\n",
        "                                                           padding='post')\n",
        "    inputs = tf.convert_to_tensor(inputs)\n",
        "    result = ''\n",
        "    hidden = [tf.zeros((1, units))]\n",
        "    enc_out, enc_hidden = encoder(inputs, hidden)\n",
        "    dec_hidden = enc_hidden\n",
        "    dec_input = tf.expand_dims([targ_lang.word_index['<start>']], 0)\n",
        "    for t in range(max_length_targ):\n",
        "        predictions, dec_hidden, attention_weights = decoder(dec_input,\n",
        "                                                             dec_hidden,\n",
        "                                                             enc_out)\n",
        "        predicted_id = tf.argmax(predictions[0]).numpy()\n",
        "        result += targ_lang.index_word[predicted_id] + ' '\n",
        "        if targ_lang.index_word[predicted_id] == '<end>':\n",
        "            return result, sentence\n",
        "        dec_input = tf.expand_dims([predicted_id], 0)\n",
        "    return result, sentence"
      ]
    },
    {
      "cell_type": "code",
      "execution_count": null,
      "metadata": {
        "id": "sruLmDyCogsu"
      },
      "outputs": [],
      "source": [
        "def translate(sentence, sample_translation=\" क़र्ज़ ट्रेन कीड़े\"):\n",
        "    result, sentence = evaluate(sentence)\n",
        "    print('Input: %s' % (sentence))\n",
        "    print('Predicted translation: {}'.format(result))\n",
        "   # bleu_score = evaluate_bleu(format(result), sample_translation)\n",
        "   # print(f\"BLEU score for sample input: {bleu_score}\")"
      ]
    },
    {
      "cell_type": "code",
      "execution_count": null,
      "metadata": {
        "id": "lCLb7o0YojdN",
        "colab": {
          "base_uri": "https://localhost:8080/"
        },
        "outputId": "481d21e7-973f-4af3-c5f8-59dd48da17b9"
      },
      "outputs": [
        {
          "output_type": "execute_result",
          "data": {
            "text/plain": [
              "<tensorflow.python.checkpoint.checkpoint.CheckpointLoadStatus at 0x7d08d796c190>"
            ]
          },
          "metadata": {},
          "execution_count": 53
        }
      ],
      "source": [
        "# restoring the latest checkpoint in checkpoint_dir\n",
        "checkpoint.restore(tf.train.latest_checkpoint(checkpoint_dir))"
      ]
    },
    {
      "cell_type": "code",
      "execution_count": null,
      "metadata": {
        "id": "j4l8KBQlonAv",
        "colab": {
          "base_uri": "https://localhost:8080/"
        },
        "outputId": "b347b448-6564-4c67-8b81-2e700f347098"
      },
      "outputs": [
        {
          "output_type": "stream",
          "name": "stdout",
          "text": [
            "Input: i want you to go home .\n",
            "Predicted translation: ट्रेन कैमरों मुजीबा, साझी बगीचा उनकी घोड़े निलंबित ग्राफिटी भलाई ट्रेन कैमरों मुजीबा, साझी बगीचा उनकी घोड़े निलंबित ग्राफिटी भलाई ट्रेन कैमरों मुजीबा, साझी बगीचा उनकी घोड़े निलंबित ग्राफिटी भलाई ट्रेन कैमरों मुजीबा, \n"
          ]
        }
      ],
      "source": [
        "translate(u'i want you to go home.')"
      ]
    },
    {
      "cell_type": "code",
      "execution_count": null,
      "metadata": {
        "id": "s1EhT4xZonWX"
      },
      "outputs": [],
      "source": []
    }
  ],
  "metadata": {
    "colab": {
      "provenance": []
    },
    "kernelspec": {
      "display_name": "Python 3",
      "name": "python3"
    },
    "language_info": {
      "name": "python"
    }
  },
  "nbformat": 4,
  "nbformat_minor": 0
}